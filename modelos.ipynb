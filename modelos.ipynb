{
 "cells": [
  {
   "cell_type": "code",
   "execution_count": null,
   "id": "7fd4ad28",
   "metadata": {},
   "outputs": [],
   "source": [
    "import pandas as pd\n",
    "import seaborn as sns\n",
    "import numpy as np\n",
    "import matplotlib.pyplot as plt\n",
    "\n",
    "from sklearn.model_selection import train_test_split\n",
    "from sklearn.linear_model import LinearRegression, Ridge, Lasso\n",
    "from sklearn.metrics import mean_squared_error, r2_score\n",
    "\n",
    "from sklearn.preprocessing import OneHotEncoder, StandardScaler\n",
    "from sklearn.compose import ColumnTransformer\n",
    "from sklearn.pipeline import Pipeline\n",
    "from sklearn.impute import SimpleImputer\n",
    "from sklearn.model_selection import GridSearchCV"
   ]
  },
  {
   "cell_type": "code",
   "execution_count": 24,
   "id": "780404cf",
   "metadata": {},
   "outputs": [
    {
     "name": "stderr",
     "output_type": "stream",
     "text": [
      "C:\\Users\\ASUS\\AppData\\Local\\Temp\\ipykernel_4200\\2307928382.py:2: FutureWarning: The 'delim_whitespace' keyword in pd.read_csv is deprecated and will be removed in a future version. Use ``sep='\\s+'`` instead\n",
      "  df = pd.read_csv(\"data/auto-mpg.data\", delim_whitespace=True, names=cols)\n"
     ]
    },
    {
     "data": {
      "text/html": [
       "<div>\n",
       "<style scoped>\n",
       "    .dataframe tbody tr th:only-of-type {\n",
       "        vertical-align: middle;\n",
       "    }\n",
       "\n",
       "    .dataframe tbody tr th {\n",
       "        vertical-align: top;\n",
       "    }\n",
       "\n",
       "    .dataframe thead th {\n",
       "        text-align: right;\n",
       "    }\n",
       "</style>\n",
       "<table border=\"1\" class=\"dataframe\">\n",
       "  <thead>\n",
       "    <tr style=\"text-align: right;\">\n",
       "      <th></th>\n",
       "      <th>mpg</th>\n",
       "      <th>cylinders</th>\n",
       "      <th>displacement</th>\n",
       "      <th>horsepower</th>\n",
       "      <th>weight</th>\n",
       "      <th>acceleration</th>\n",
       "      <th>model year</th>\n",
       "      <th>origin</th>\n",
       "      <th>car name</th>\n",
       "    </tr>\n",
       "  </thead>\n",
       "  <tbody>\n",
       "    <tr>\n",
       "      <th>0</th>\n",
       "      <td>18.0</td>\n",
       "      <td>8</td>\n",
       "      <td>307.0</td>\n",
       "      <td>130.0</td>\n",
       "      <td>3504.0</td>\n",
       "      <td>12.0</td>\n",
       "      <td>70</td>\n",
       "      <td>1</td>\n",
       "      <td>chevrolet chevelle malibu</td>\n",
       "    </tr>\n",
       "    <tr>\n",
       "      <th>1</th>\n",
       "      <td>15.0</td>\n",
       "      <td>8</td>\n",
       "      <td>350.0</td>\n",
       "      <td>165.0</td>\n",
       "      <td>3693.0</td>\n",
       "      <td>11.5</td>\n",
       "      <td>70</td>\n",
       "      <td>1</td>\n",
       "      <td>buick skylark 320</td>\n",
       "    </tr>\n",
       "    <tr>\n",
       "      <th>2</th>\n",
       "      <td>18.0</td>\n",
       "      <td>8</td>\n",
       "      <td>318.0</td>\n",
       "      <td>150.0</td>\n",
       "      <td>3436.0</td>\n",
       "      <td>11.0</td>\n",
       "      <td>70</td>\n",
       "      <td>1</td>\n",
       "      <td>plymouth satellite</td>\n",
       "    </tr>\n",
       "    <tr>\n",
       "      <th>3</th>\n",
       "      <td>16.0</td>\n",
       "      <td>8</td>\n",
       "      <td>304.0</td>\n",
       "      <td>150.0</td>\n",
       "      <td>3433.0</td>\n",
       "      <td>12.0</td>\n",
       "      <td>70</td>\n",
       "      <td>1</td>\n",
       "      <td>amc rebel sst</td>\n",
       "    </tr>\n",
       "    <tr>\n",
       "      <th>4</th>\n",
       "      <td>17.0</td>\n",
       "      <td>8</td>\n",
       "      <td>302.0</td>\n",
       "      <td>140.0</td>\n",
       "      <td>3449.0</td>\n",
       "      <td>10.5</td>\n",
       "      <td>70</td>\n",
       "      <td>1</td>\n",
       "      <td>ford torino</td>\n",
       "    </tr>\n",
       "  </tbody>\n",
       "</table>\n",
       "</div>"
      ],
      "text/plain": [
       "    mpg  cylinders  displacement horsepower  weight  acceleration  model year  \\\n",
       "0  18.0          8         307.0      130.0  3504.0          12.0          70   \n",
       "1  15.0          8         350.0      165.0  3693.0          11.5          70   \n",
       "2  18.0          8         318.0      150.0  3436.0          11.0          70   \n",
       "3  16.0          8         304.0      150.0  3433.0          12.0          70   \n",
       "4  17.0          8         302.0      140.0  3449.0          10.5          70   \n",
       "\n",
       "   origin                   car name  \n",
       "0       1  chevrolet chevelle malibu  \n",
       "1       1          buick skylark 320  \n",
       "2       1         plymouth satellite  \n",
       "3       1              amc rebel sst  \n",
       "4       1                ford torino  "
      ]
     },
     "execution_count": 24,
     "metadata": {},
     "output_type": "execute_result"
    }
   ],
   "source": [
    "cols=['mpg', 'cylinders', 'displacement', 'horsepower','weight','acceleration', 'model year', 'origin','car name']\n",
    "df = pd.read_csv(\"data/auto-mpg.data\", delim_whitespace=True, names=cols)\n",
    "df.head()"
   ]
  },
  {
   "cell_type": "markdown",
   "id": "31434395",
   "metadata": {},
   "source": [
    "la columna horsepower tiene valores \"?\" como string en lugar de NaN"
   ]
  },
  {
   "cell_type": "code",
   "execution_count": null,
   "id": "a1632c14",
   "metadata": {},
   "outputs": [
    {
     "name": "stdout",
     "output_type": "stream",
     "text": [
      "Valores NaN en horsepower: 6\n",
      "0    130.0\n",
      "1    165.0\n",
      "2    150.0\n",
      "3    150.0\n",
      "4    140.0\n",
      "5    198.0\n",
      "6    220.0\n",
      "7    215.0\n",
      "8    225.0\n",
      "9    190.0\n",
      "Name: horsepower, dtype: float64\n"
     ]
    }
   ],
   "source": [
    "df[\"horsepower\"] = pd.to_numeric(df[\"horsepower\"], errors=\"coerce\")\n",
    "\n",
    "# Verificamos cuántos NaN quedaron\n",
    "print(\"Valores NaN en horsepower:\", df[\"horsepower\"].isna().sum())\n",
    "print(df[\"horsepower\"].head(10))\n"
   ]
  },
  {
   "cell_type": "markdown",
   "id": "52d837e2",
   "metadata": {},
   "source": [
    "### One-Hot Encoding a origin (actualmente esta como: USA=1 , Europe=2 , Japan=3) e imputacion a horsepower"
   ]
  },
  {
   "cell_type": "markdown",
   "id": "6675cebf",
   "metadata": {},
   "source": [
    "Haremos un preprocessor que: \n",
    "(1) imputa medianas en numéricas\n",
    "(2) estandariza numéricas (media 0, var 1)\n",
    "(3) pasa dummies “en crudo”"
   ]
  },
  {
   "cell_type": "markdown",
   "id": "597fd0e8",
   "metadata": {},
   "source": [
    "SimpleImputer(strategy=\"median\") → rellena huecos en numéricas (ej: horsepower con “?”).\n",
    "\n",
    "StandardScaler() → escala numéricas (para GD y regularización).\n",
    "\n",
    "OneHotEncoder(drop=\"first\") → convierte origin en dos columnas (Europe y Japan), dejando USA como base.\n",
    "\n",
    "ColumnTransformer → aplica una cosa a las numéricas y otra a las categóricas.\n",
    "\n",
    "Pipeline → une pasos de preprocesamiento y asegura que se apliquen igual en train y validación."
   ]
  },
  {
   "cell_type": "code",
   "execution_count": null,
   "id": "55ade380",
   "metadata": {},
   "outputs": [],
   "source": [
    "y = df[\"mpg\"].values # Variable objetivo\n",
    "X = df.drop(columns=[\"mpg\", \"car name\"]) # quitamos car_name porque no aporta al modelo\n",
    "\n",
    "# Columnas numéricas y categóricas\n",
    "num_cols = [\"cylinders\", \"displacement\", \"horsepower\", \"weight\", \"acceleration\", \"model year\"]\n",
    "cat_cols = [\"origin\"]  # la vamos a codificar\n",
    "\n",
    "# Pipeline para numéricas (imputar + escalar)\n",
    "numeric_pipe = Pipeline([\n",
    "    (\"imp\", SimpleImputer(strategy=\"median\")),\n",
    "    (\"sc\",  StandardScaler())\n",
    "])\n",
    "\n",
    "# Pipeline para categóricas (OneHot)\n",
    "categorical_pipe = Pipeline([\n",
    "    (\"imp\", SimpleImputer(strategy=\"most_frequent\")),  # por si acaso hay NaN\n",
    "    (\"oh\", OneHotEncoder(drop=\"first\"))  # drop=\"first\" evita colinealidad\n",
    "])\n",
    "\n",
    "# Preprocesador general\n",
    "preprocessor = ColumnTransformer([\n",
    "    (\"num\", numeric_pipe, num_cols),\n",
    "    (\"cat\", categorical_pipe, cat_cols)\n",
    "])\n"
   ]
  },
  {
   "cell_type": "markdown",
   "id": "03298efb",
   "metadata": {},
   "source": [
    "Variables estimadoras\n",
    "\n",
    "Objetivo (y): mpg /\n",
    "Estimadoras (X) típicas y útiles:\n",
    "\n",
    " - Numéricas continuas: cylinders, displacement, horsepower, weight, acceleration, model_year.\n",
    " \n",
    " - Dummies de origin: las columnas que quedaron tras el one-hot "
   ]
  },
  {
   "cell_type": "markdown",
   "id": "b3bd64b4",
   "metadata": {},
   "source": [
    "### dividimos en train/val (80/20) y usamos un diccionario de decisiones "
   ]
  },
  {
   "cell_type": "code",
   "execution_count": null,
   "id": "59f1a9d4",
   "metadata": {},
   "outputs": [
    {
     "name": "stdout",
     "output_type": "stream",
     "text": [
      "Tamaño train: (318, 7)  | Tamaño val: (80, 7)\n"
     ]
    }
   ],
   "source": [
    "diccionario = {\n",
    "    \"objetivo\": \"mpg\",\n",
    "    \"variables_excluidas\": [\"car_name\"],\n",
    "    \"imputacion_numericas\": \"median\", # robusta a outliers\n",
    "    \"escalado\": \"StandardScaler (media 0, varianza 1)\",\n",
    "    \"codificacion_categoricas\": \"OneHotEncoder(drop='first') para origin\",\n",
    "    \"test_size\": 0.20,  # 20% validación\n",
    "    \"train_size\": 0.80,\n",
    "    \"random_state\": 42, # reproducibilidad\n",
    "    \"razon_split\": \"80/20 mantiene suficiente data para entrenar y reserva un bloque para validar sin sesgo\"\n",
    "}\n",
    "\n",
    "X_train, X_val, y_train, y_val = train_test_split(\n",
    "    X, y,\n",
    "    test_size=diccionario[\"test_size\"],\n",
    "    random_state=diccionario[\"random_state\"]\n",
    ")\n",
    "\n",
    "print(\"Tamaño train:\", X_train.shape, \" | Tamaño val:\", X_val.shape)\n"
   ]
  },
  {
   "cell_type": "markdown",
   "id": "41c7e30c",
   "metadata": {},
   "source": [
    "## Modelo 1: Ecuación Normal (OLS)"
   ]
  },
  {
   "cell_type": "markdown",
   "id": "a1e41d33",
   "metadata": {},
   "source": [
    "$\\hat{\\beta} = (X^\\top X)^{-1} X^\\top y$"
   ]
  },
  {
   "cell_type": "code",
   "execution_count": null,
   "id": "416ca714",
   "metadata": {},
   "outputs": [
    {
     "name": "stdout",
     "output_type": "stream",
     "text": [
      "OLS (Normal Eq) - Train -> MSE: 11.355 | RMSE: 3.370 | R²: 0.819\n",
      "OLS (Normal Eq) - Val -> MSE: 8.339 | RMSE: 2.888 | R²: 0.845\n"
     ]
    }
   ],
   "source": [
    "# Transformamos los datos con el preprocesador\n",
    "Xtr = preprocessor.fit_transform(X_train)  # fit en train\n",
    "Xva = preprocessor.transform(X_val)        # transform en val (sin refit)\n",
    "\n",
    "# Función para agregar columna de 1 (intercepto)\n",
    "def add_bias(A):\n",
    "    return np.c_[np.ones((A.shape[0], 1)), A]\n",
    "\n",
    "Xtr_b = add_bias(Xtr)\n",
    "Xva_b = add_bias(Xva)\n",
    "\n",
    "# Ecuación normal con pseudo-inversa\n",
    "beta_hat = np.linalg.pinv(Xtr_b.T @ Xtr_b) @ (Xtr_b.T @ y_train.reshape(-1,1))\n",
    "\n",
    "# Predicciones\n",
    "ytr_pred = Xtr_b @ beta_hat\n",
    "yva_pred = Xva_b @ beta_hat\n",
    "\n",
    "# Métricas de evaluación\n",
    "def report(y_true, y_pred, nombre):\n",
    "    mse  = mean_squared_error(y_true, y_pred)\n",
    "    rmse = mse**0.5\n",
    "    r2   = r2_score(y_true, y_pred)\n",
    "    print(f\"{nombre} -> MSE: {mse:.3f} | RMSE: {rmse:.3f} | R²: {r2:.3f}\")\n",
    "\n",
    "report(y_train, ytr_pred.ravel(), \"OLS (Normal Eq) - Train\")\n",
    "report(y_val,   yva_pred.ravel(), \"OLS (Normal Eq) - Val\")\n"
   ]
  },
  {
   "cell_type": "markdown",
   "id": "5f167369",
   "metadata": {},
   "source": [
    "## Modelo 2: scikit-learn"
   ]
  },
  {
   "cell_type": "code",
   "execution_count": null,
   "id": "4f06af31",
   "metadata": {},
   "outputs": [],
   "source": [
    "# métricas\n",
    "def report(y_true, y_pred, nombre):\n",
    "    mse  = mean_squared_error(y_true, y_pred)\n",
    "    rmse = mse**0.5\n",
    "    r2   = r2_score(y_true, y_pred)\n",
    "    print(f\"{nombre} -> MSE: {mse:.3f} | RMSE: {rmse:.3f} | R²: {r2:.3f}\")\n"
   ]
  },
  {
   "cell_type": "markdown",
   "id": "310da010",
   "metadata": {},
   "source": [
    "### LinearRegression"
   ]
  },
  {
   "cell_type": "code",
   "execution_count": null,
   "id": "840f80cd",
   "metadata": {},
   "outputs": [
    {
     "name": "stdout",
     "output_type": "stream",
     "text": [
      "OLS (sklearn) - Train -> MSE: 11.355 | RMSE: 3.370 | R²: 0.819\n",
      "OLS (sklearn) - Val -> MSE: 8.339 | RMSE: 2.888 | R²: 0.845\n"
     ]
    }
   ],
   "source": [
    "ols = Pipeline([\n",
    "    (\"prep\", preprocessor),\n",
    "    (\"model\", LinearRegression())\n",
    "])\n",
    "ols.fit(X_train, y_train)\n",
    "\n",
    "report(y_train, ols.predict(X_train), \"OLS (sklearn) - Train\")\n",
    "report(y_val,   ols.predict(X_val),   \"OLS (sklearn) - Val\")\n"
   ]
  },
  {
   "cell_type": "markdown",
   "id": "5579ab7b",
   "metadata": {},
   "source": [
    "### regularización Ridge"
   ]
  },
  {
   "cell_type": "code",
   "execution_count": null,
   "id": "8ae707cc",
   "metadata": {},
   "outputs": [
    {
     "name": "stdout",
     "output_type": "stream",
     "text": [
      "Mejor alpha Ridge: {'model__alpha': 1}\n",
      "Ridge - Train -> MSE: 11.364 | RMSE: 3.371 | R²: 0.819\n",
      "Ridge - Val -> MSE: 8.348 | RMSE: 2.889 | R²: 0.845\n"
     ]
    }
   ],
   "source": [
    "ridge = Pipeline([\n",
    "    (\"prep\", preprocessor),\n",
    "    (\"model\", Ridge(random_state=42))\n",
    "])\n",
    "\n",
    "param_ridge = {\"model__alpha\": [0.001, 0.01, 0.1, 1, 10, 100]}\n",
    "ridge_cv = GridSearchCV(ridge, param_grid=param_ridge, cv=5, scoring=\"neg_mean_squared_error\")\n",
    "ridge_cv.fit(X_train, y_train)\n",
    "\n",
    "best_ridge = ridge_cv.best_estimator_\n",
    "print(\"Mejor alpha Ridge:\", ridge_cv.best_params_)\n",
    "\n",
    "report(y_train, best_ridge.predict(X_train), \"Ridge - Train\")\n",
    "report(y_val,   best_ridge.predict(X_val),   \"Ridge - Val\")\n"
   ]
  },
  {
   "cell_type": "markdown",
   "id": "28659a34",
   "metadata": {},
   "source": [
    "### regularización Lasso"
   ]
  },
  {
   "cell_type": "code",
   "execution_count": null,
   "id": "a1eda830",
   "metadata": {},
   "outputs": [
    {
     "name": "stdout",
     "output_type": "stream",
     "text": [
      "Mejor alpha Lasso: {'model__alpha': 0.01}\n",
      "Lasso - Train -> MSE: 11.371 | RMSE: 3.372 | R²: 0.819\n",
      "Lasso - Val -> MSE: 8.433 | RMSE: 2.904 | R²: 0.843\n"
     ]
    }
   ],
   "source": [
    "lasso = Pipeline([\n",
    "    (\"prep\", preprocessor),\n",
    "    (\"model\", Lasso(max_iter=10000, random_state=42))\n",
    "])\n",
    "\n",
    "param_lasso = {\"model__alpha\": [0.001, 0.01, 0.1, 1, 10]}\n",
    "lasso_cv = GridSearchCV(lasso, param_grid=param_lasso, cv=5, scoring=\"neg_mean_squared_error\")\n",
    "lasso_cv.fit(X_train, y_train)\n",
    "\n",
    "best_lasso = lasso_cv.best_estimator_\n",
    "print(\"Mejor alpha Lasso:\", lasso_cv.best_params_)\n",
    "\n",
    "report(y_train, best_lasso.predict(X_train), \"Lasso - Train\")\n",
    "report(y_val,   best_lasso.predict(X_val),   \"Lasso - Val\")\n"
   ]
  },
  {
   "cell_type": "markdown",
   "id": "1d1814ae",
   "metadata": {},
   "source": [
    "## Modelo 3: Gradiente Descendente"
   ]
  },
  {
   "cell_type": "markdown",
   "id": "d181f08e",
   "metadata": {},
   "source": [
    "Queremos minimizar el **MSE**:\n",
    "\n",
    "$J(\\beta) = \\frac{1}{2n} \\sum_{i=1}^n (y_i - X_i \\beta)^2$\n",
    "\n",
    "- **Gradiente**:\n",
    "\n",
    "$\\nabla J(\\beta) = \\frac{1}{n} X^\\top (X\\beta - y)$\n",
    "\n",
    "- **Actualización iterativa**:\n",
    "\n",
    "$\\beta \\; \\leftarrow \\; \\beta - \\eta \\cdot \\nabla J(\\beta)$\n"
   ]
  },
  {
   "cell_type": "code",
   "execution_count": null,
   "id": "52b985a7",
   "metadata": {},
   "outputs": [
    {
     "name": "stdout",
     "output_type": "stream",
     "text": [
      "GD - Train -> MSE: 11.365 | RMSE: 3.371 | R²: 0.819\n",
      "GD - Val -> MSE: 8.414 | RMSE: 2.901 | R²: 0.843\n"
     ]
    },
    {
     "data": {
      "image/png": "[encoded data removed]",
      "text/plain": [
       "<Figure size 640x480 with 1 Axes>"
      ]
     },
     "metadata": {},
     "output_type": "display_data"
    }
   ],
   "source": [
    "# Preprocesamiento (fit en train, transform en train y val)\n",
    "Xtr = preprocessor.fit_transform(X_train)\n",
    "Xva = preprocessor.transform(X_val)\n",
    "\n",
    "# Agregamos columna de 1 para el intercepto\n",
    "def add_bias(A):\n",
    "    return np.c_[np.ones((A.shape[0], 1)), A]\n",
    "\n",
    "Xtr_b = add_bias(Xtr)\n",
    "Xva_b = add_bias(Xva)\n",
    "\n",
    "# Implementamos Gradiente Descendente\n",
    "def gradient_descent(X, y, lr=0.01, epochs=5000, tol=1e-8, verbose=False):\n",
    "    n, p = X.shape\n",
    "    y = y.reshape(-1,1)\n",
    "    beta = np.zeros((p,1))  # inicialización\n",
    "    history = []\n",
    "\n",
    "    for t in range(epochs):\n",
    "        # Gradiente\n",
    "        grad = (1/n) * (X.T @ (X @ beta - y))\n",
    "        # Actualizacion\n",
    "        beta_new = beta - lr * grad\n",
    "        # Guardar costo cada 100 iteraciones\n",
    "        if t % 100 == 0:\n",
    "            J = (1/(2*n)) * np.sum((X @ beta_new - y)**2)\n",
    "            history.append(J)\n",
    "            if verbose:\n",
    "                print(f\"Iter {t}, Costo J={J:.6f}\")\n",
    "        # Criterio de paro\n",
    "        if np.linalg.norm(beta_new - beta, ord=2) < tol:\n",
    "            beta = beta_new\n",
    "            break\n",
    "        beta = beta_new\n",
    "\n",
    "    return beta, history\n",
    "\n",
    "# Entrenamos con GD\n",
    "beta_gd, hist = gradient_descent(Xtr_b, y_train, lr=0.01, epochs=5000)\n",
    "\n",
    "# Predicciones\n",
    "ytr_pred = (Xtr_b @ beta_gd).ravel()\n",
    "yva_pred = (Xva_b @ beta_gd).ravel()\n",
    "\n",
    "# Métricas\n",
    "def report(y_true, y_pred, nombre):\n",
    "    mse  = mean_squared_error(y_true, y_pred)\n",
    "    rmse = mse**0.5\n",
    "    r2   = r2_score(y_true, y_pred)\n",
    "    print(f\"{nombre} -> MSE: {mse:.3f} | RMSE: {rmse:.3f} | R²: {r2:.3f}\")\n",
    "\n",
    "report(y_train, ytr_pred, \"GD - Train\")\n",
    "report(y_val,   yva_pred, \"GD - Val\")\n",
    "\n",
    "# Graficamos la curva de costo\n",
    "plt.plot(range(0, len(hist)*100, 100), hist)\n",
    "plt.xlabel(\"Iteraciones\")\n",
    "plt.ylabel(\"Costo J\")\n",
    "plt.title(\"Convergencia del Gradiente Descendente\")\n",
    "plt.show()\n"
   ]
  }
 ],
 "metadata": {
  "kernelspec": {
   "display_name": "venv",
   "language": "python",
   "name": "python3"
  },
  "language_info": {
   "codemirror_mode": {
    "name": "ipython",
    "version": 3
   },
   "file_extension": ".py",
   "mimetype": "text/x-python",
   "name": "python",
   "nbconvert_exporter": "python",
   "pygments_lexer": "ipython3",
   "version": "3.12.3"
  }
 },
 "nbformat": 4,
 "nbformat_minor": 5
}
